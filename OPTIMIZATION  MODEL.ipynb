{
  "nbformat": 4,
  "nbformat_minor": 0,
  "metadata": {
    "colab": {
      "provenance": [],
      "authorship_tag": "ABX9TyMO/tAp4oy0zk6L9tiG8MW/",
      "include_colab_link": true
    },
    "kernelspec": {
      "name": "python3",
      "display_name": "Python 3"
    },
    "language_info": {
      "name": "python"
    }
  },
  "cells": [
    {
      "cell_type": "markdown",
      "metadata": {
        "id": "view-in-github",
        "colab_type": "text"
      },
      "source": [
        "<a href=\"https://colab.research.google.com/github/DomnicBlinda/OPTIMIZATION-MODEL/blob/main/OPTIMIZATION%20%20MODEL.ipynb\" target=\"_parent\"><img src=\"https://colab.research.google.com/assets/colab-badge.svg\" alt=\"Open In Colab\"/></a>"
      ]
    },
    {
      "cell_type": "code",
      "source": [
        "# Install PuLP if needed\n",
        "!pip install pulp\n",
        "\n",
        "# Import libraries\n",
        "import pulp\n",
        "from pulp import LpMaximize, LpProblem, LpVariable, lpSum, value\n",
        "\n",
        "# Define the Problem\n",
        "model = LpProblem(\"Maximize_Profit\", LpMaximize)\n",
        "\n",
        "# Define Decision Variables\n",
        "x = LpVariable(\"Product_A\", lowBound=0, cat='Continuous')\n",
        "y = LpVariable(\"Product_B\", lowBound=0, cat='Continuous')\n",
        "\n",
        "# Define Objective Function\n",
        "model += 20 * x + 30 * y, \"Total_Profit\"\n",
        "\n",
        "# Define Constraints with unique names\n",
        "model += 4 * x + 6 * y <= 240, \"Machine_Time_Constraint\"\n",
        "model += 2 * x + 4 * y <= 160, \"Labor_Time_Constraint\"\n",
        "\n",
        "# Solve the Model\n",
        "model.solve()\n",
        "\n",
        "# Output the Results\n",
        "print(\"Status:\", pulp.LpStatus[model.status])\n",
        "print(f\"Optimal Units of Product A: {x.varValue}\")\n",
        "print(f\"Optimal Units of Product B: {y.varValue}\")\n",
        "print(f\"Maximum Profit: ${value(model.objective)}\")\n"
      ],
      "metadata": {
        "colab": {
          "base_uri": "https://localhost:8080/"
        },
        "id": "NKUr3zc-tRxB",
        "outputId": "1f186a8e-550c-4a04-d7ab-5d3d4ffc057d"
      },
      "execution_count": 11,
      "outputs": [
        {
          "output_type": "stream",
          "name": "stdout",
          "text": [
            "Requirement already satisfied: pulp in /usr/local/lib/python3.11/dist-packages (3.2.2)\n",
            "Status: Optimal\n",
            "Optimal Units of Product A: 1.4921397e-12\n",
            "Optimal Units of Product B: 40.0\n",
            "Maximum Profit: $1200.0000000000298\n"
          ]
        }
      ]
    }
  ]
}